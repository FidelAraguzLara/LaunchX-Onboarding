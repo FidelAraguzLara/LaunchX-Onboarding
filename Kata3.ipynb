{
 "cells": [
  {
   "cell_type": "markdown",
   "metadata": {},
   "source": [
    "Ejercicio 1"
   ]
  },
  {
   "cell_type": "code",
   "execution_count": 46,
   "metadata": {},
   "outputs": [
    {
     "name": "stdout",
     "output_type": "stream",
     "text": [
      "Alerta, el asteroide es peligroso\n"
     ]
    }
   ],
   "source": [
    "velAsteroide = 49\n",
    "\n",
    "if (velAsteroide > 25):\n",
    "    print(\"Alerta, el asteroide es peligroso\")"
   ]
  },
  {
   "cell_type": "markdown",
   "metadata": {},
   "source": [
    "Ejercicio 2"
   ]
  },
  {
   "cell_type": "code",
   "execution_count": 47,
   "metadata": {},
   "outputs": [
    {
     "name": "stdout",
     "output_type": "stream",
     "text": [
      "¡Busca el asteroide en el cielo!\n"
     ]
    }
   ],
   "source": [
    "velAsteroide = 60\n",
    "\n",
    "if (velAsteroide >= 50):\n",
    "    print(\"¡Busca el asteroide en el cielo!\")\n",
    "elif (velAsteroide >= 19):\n",
    "    print(\"¡Hay un asteroide dirigiendose, pero no lo puedes ver\")\n",
    "else:\n",
    "    print(\"No hay ningun asteroide\")"
   ]
  },
  {
   "cell_type": "markdown",
   "metadata": {},
   "source": [
    "Ejercicio 3"
   ]
  },
  {
   "cell_type": "code",
   "execution_count": 48,
   "metadata": {},
   "outputs": [
    {
     "name": "stdout",
     "output_type": "stream",
     "text": [
      "Un asteroide se aproxima pero no es peligroso\n",
      "Puedes ver una luz del asteroide\n"
     ]
    }
   ],
   "source": [
    "#Declaración y entrada de variables\n",
    "velAsteroide = int(input(\"Velocidad del asteroide\"))\n",
    "tamAsteroide = int(input(\"Tamaño del asteroide\"))\n",
    "\n",
    "#Detarminar mensaje según tamaño del asteroide\n",
    "if (tamAsteroide > 25 and velAsteroide > 25):\n",
    "    print(\"Cristo en ti confío\")\n",
    "elif(tamAsteroide < 25):\n",
    "    print(\"Un asteroide se aproxima pero no es peligroso\")\n",
    "else:\n",
    "    print(\"Un asteroide se aproxima pero no es peligroso\")\n",
    "\n",
    "#Determinar la luz\n",
    "if(velAsteroide >= 20):\n",
    "    print(\"Puedes ver una luz del asteroide\")\n"
   ]
  }
 ],
 "metadata": {
  "interpreter": {
   "hash": "ac59ebe37160ed0dfa835113d9b8498d9f09ceb179beaac4002f036b9467c963"
  },
  "kernelspec": {
   "display_name": "Python 3.9.4 64-bit",
   "language": "python",
   "name": "python3"
  },
  "language_info": {
   "codemirror_mode": {
    "name": "ipython",
    "version": 3
   },
   "file_extension": ".py",
   "mimetype": "text/x-python",
   "name": "python",
   "nbconvert_exporter": "python",
   "pygments_lexer": "ipython3",
   "version": "3.9.10"
  },
  "orig_nbformat": 4
 },
 "nbformat": 4,
 "nbformat_minor": 2
}
