{
 "cells": [
  {
   "cell_type": "markdown",
   "metadata": {},
   "source": [
    "Ejercicio 1"
   ]
  },
  {
   "cell_type": "code",
   "execution_count": 26,
   "metadata": {},
   "outputs": [
    {
     "name": "stdout",
     "output_type": "stream",
     "text": [
      "El promedio general es: 10.0\n",
      "               El tanque 1 tenía un 10%\n",
      "               El tanque 2 tenía un 10%\n",
      "               El tanque 3 tenía un 10%\n"
     ]
    }
   ],
   "source": [
    "#Creación de la función promedio\n",
    "def promedio(valores):\n",
    "    total = sum(valores)\n",
    "    elementos = len(valores)\n",
    "    return total/elementos\n",
    "\n",
    "#Funcion para el reporte\n",
    "def lecturaTanques(t1, t2, t3):\n",
    "    return f\"\"\"El promedio general es: {promedio([t1,t2,t3])}\n",
    "               El tanque 1 tenía un {t1}%\n",
    "               El tanque 2 tenía un {t2}%\n",
    "               El tanque 3 tenía un {t2}%\"\"\"\n",
    "    \n",
    "#Impresión de datos\n",
    "print(lecturaTanques(10, 10, 10))"
   ]
  },
  {
   "cell_type": "markdown",
   "metadata": {},
   "source": [
    "Ejercicio 2"
   ]
  },
  {
   "cell_type": "code",
   "execution_count": 27,
   "metadata": {},
   "outputs": [
    {
     "name": "stdout",
     "output_type": "stream",
     "text": [
      "INFORME PRECISO PARA EL COHETE DE LAUNCH X\n",
      "               El cohete comenzara su proceso de lanzamiento a las 18 hrs\n",
      "               El cohete tardará 51 hrs en llegar a la luna\n",
      "               El cohete tiene un 100% de combustible en sus reservas principales\n",
      "               El cohete tiene un 80% de combustible en sus reservas secundarias\n"
     ]
    }
   ],
   "source": [
    "#Creando la función\n",
    "def informePreciso(preLanzamiento, tiempoVuelo, destino, tanqueExt, tanqueInt):\n",
    "    return f\"\"\"INFORME PRECISO PARA EL COHETE DE LAUNCH X\n",
    "               El cohete comenzara su proceso de lanzamiento a las {preLanzamiento} hrs\n",
    "               El cohete tardará {tiempoVuelo} hrs en llegar a {destino}\n",
    "               El cohete tiene un {tanqueExt}% de combustible en sus reservas principales\n",
    "               El cohete tiene un {tanqueInt}% de combustible en sus reservas secundarias\"\"\"\n",
    "\n",
    "#Impresión de datos\n",
    "print(informePreciso(18, 51, \"la luna\", 100, 80))"
   ]
  }
 ],
 "metadata": {
  "interpreter": {
   "hash": "ac59ebe37160ed0dfa835113d9b8498d9f09ceb179beaac4002f036b9467c963"
  },
  "kernelspec": {
   "display_name": "Python 3.9.4 64-bit",
   "language": "python",
   "name": "python3"
  },
  "language_info": {
   "codemirror_mode": {
    "name": "ipython",
    "version": 3
   },
   "file_extension": ".py",
   "mimetype": "text/x-python",
   "name": "python",
   "nbconvert_exporter": "python",
   "pygments_lexer": "ipython3",
   "version": "3.9.10"
  },
  "orig_nbformat": 4
 },
 "nbformat": 4,
 "nbformat_minor": 2
}
